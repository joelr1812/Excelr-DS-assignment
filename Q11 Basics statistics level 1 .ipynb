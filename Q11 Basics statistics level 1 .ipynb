{
 "cells": [
  {
   "cell_type": "code",
   "execution_count": 1,
   "id": "0c024e3f",
   "metadata": {},
   "outputs": [],
   "source": [
    "import pandas as pd \n",
    "import numpy as np \n",
    "from scipy import stats"
   ]
  },
  {
   "cell_type": "code",
   "execution_count": 3,
   "id": "fb3e7a3b",
   "metadata": {},
   "outputs": [
    {
     "name": "stdout",
     "output_type": "stream",
     "text": [
      "94% of confidence interval : (198.738325292158, 201.261674707842)\n",
      "96% of confidence interval : (198.62230334813333, 201.37769665186667)\n",
      "98% of confidence interval : (198.43943840429978, 201.56056159570022)\n"
     ]
    }
   ],
   "source": [
    "ci1 = stats.norm.interval(0.94,loc=200,scale=30/np.sqrt(2000))\n",
    "print('94% of confidence interval :',ci1)\n",
    "ci2 = stats.norm.interval(0.96,loc=200,scale=30/np.sqrt(2000))\n",
    "print('96% of confidence interval :',ci2)\n",
    "ci3 = stats.norm.interval(0.98,loc=200,scale=30/np.sqrt(2000))\n",
    "print('98% of confidence interval :',ci3)"
   ]
  },
  {
   "cell_type": "code",
   "execution_count": null,
   "id": "81204de7",
   "metadata": {},
   "outputs": [],
   "source": []
  }
 ],
 "metadata": {
  "kernelspec": {
   "display_name": "Python 3 (ipykernel)",
   "language": "python",
   "name": "python3"
  },
  "language_info": {
   "codemirror_mode": {
    "name": "ipython",
    "version": 3
   },
   "file_extension": ".py",
   "mimetype": "text/x-python",
   "name": "python",
   "nbconvert_exporter": "python",
   "pygments_lexer": "ipython3",
   "version": "3.9.12"
  }
 },
 "nbformat": 4,
 "nbformat_minor": 5
}
