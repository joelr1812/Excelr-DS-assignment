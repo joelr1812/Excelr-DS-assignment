{
 "cells": [
  {
   "cell_type": "code",
   "execution_count": 1,
   "id": "6dfe240a",
   "metadata": {},
   "outputs": [],
   "source": [
    "from scipy import stats"
   ]
  },
  {
   "cell_type": "code",
   "execution_count": 15,
   "id": "e98b7f94",
   "metadata": {},
   "outputs": [
    {
     "name": "stdout",
     "output_type": "stream",
     "text": [
      "Z score for 90% confidence interval : 1.6448536269514722\n",
      "Z score for 94% confidence interval : 1.8807936081512509\n",
      "Z score for 60% confidence interval : 1.2815515655446004\n"
     ]
    }
   ],
   "source": [
    "a = stats.norm.ppf(0.95)                         # CI = 1- alpha, alpha = 1 - CI => 1-0.90 => 0.1 => 0.05(for single tail)\n",
    "print('Z score for 90% confidence interval :',a)    # CI = 1 - 0.05 => 0.95\n",
    "b= stats.norm.ppf(0.97)                             # CI = 0.97\n",
    "print('Z score for 94% confidence interval :',b)\n",
    "c = stats.norm.ppf(0.9)                             # CI = 0.9\n",
    "print('Z score for 60% confidence interval :',c)"
   ]
  },
  {
   "cell_type": "code",
   "execution_count": 16,
   "id": "f71f2a0b",
   "metadata": {},
   "outputs": [
    {
     "name": "stdout",
     "output_type": "stream",
     "text": [
      "t score for 95% confidence interval : 1.7108820799094275\n",
      "t score for 96% confidence interval : 1.8280511719596342\n",
      "t score for 99% confidence interval : 2.4921594731575762\n"
     ]
    }
   ],
   "source": [
    "d = stats.t.ppf(0.95,df= 24)   # N = 25(approximate) , df = N-1 => df = 24\n",
    "print('t score for 95% confidence interval :',d)\n",
    "e = stats.t.ppf(0.96,df=24)\n",
    "print('t score for 96% confidence interval :',e)\n",
    "f = stats.t.ppf(0.99,df=24)\n",
    "print('t score for 99% confidence interval :',f)"
   ]
  },
  {
   "cell_type": "code",
   "execution_count": null,
   "id": "0e7de1ca",
   "metadata": {},
   "outputs": [],
   "source": []
  }
 ],
 "metadata": {
  "kernelspec": {
   "display_name": "Python 3 (ipykernel)",
   "language": "python",
   "name": "python3"
  },
  "language_info": {
   "codemirror_mode": {
    "name": "ipython",
    "version": 3
   },
   "file_extension": ".py",
   "mimetype": "text/x-python",
   "name": "python",
   "nbconvert_exporter": "python",
   "pygments_lexer": "ipython3",
   "version": "3.9.12"
  }
 },
 "nbformat": 4,
 "nbformat_minor": 5
}
