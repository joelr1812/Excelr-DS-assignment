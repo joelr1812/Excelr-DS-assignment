{
 "cells": [
  {
   "cell_type": "code",
   "execution_count": 4,
   "id": "39894e8e",
   "metadata": {},
   "outputs": [],
   "source": [
    "from scipy import stats\n",
    "import numpy as np"
   ]
  },
  {
   "cell_type": "code",
   "execution_count": 5,
   "id": "ba34ba0c",
   "metadata": {},
   "outputs": [],
   "source": [
    "Population_mean = 270\n",
    "Sample_mean = 260\n",
    "Sample_std  = 90\n",
    "Sample_N = 18\n",
    "# Null_hypothesis >=260"
   ]
  },
  {
   "cell_type": "code",
   "execution_count": 7,
   "id": "b835daa4",
   "metadata": {},
   "outputs": [
    {
     "data": {
      "text/plain": [
       "-0.4714045207910317"
      ]
     },
     "execution_count": 7,
     "metadata": {},
     "output_type": "execute_result"
    }
   ],
   "source": [
    "t = (Sample_mean - Population_mean)/(Sample_std/np.sqrt(Sample_N))\n",
    "t"
   ]
  },
  {
   "cell_type": "code",
   "execution_count": 12,
   "id": "c46cda2f",
   "metadata": {},
   "outputs": [
    {
     "name": "stdout",
     "output_type": "stream",
     "text": [
      "Probability of average life of bulbs is more than 260 days :  0.32167253567098353\n"
     ]
    }
   ],
   "source": [
    "prob = 1 - stats.t.cdf(abs(t),df=Sample_N-1)\n",
    "print('Probability of average life of bulbs is more than 260 days : ',prob)"
   ]
  },
  {
   "cell_type": "code",
   "execution_count": null,
   "id": "8825ca3c",
   "metadata": {},
   "outputs": [],
   "source": []
  }
 ],
 "metadata": {
  "kernelspec": {
   "display_name": "Python 3 (ipykernel)",
   "language": "python",
   "name": "python3"
  },
  "language_info": {
   "codemirror_mode": {
    "name": "ipython",
    "version": 3
   },
   "file_extension": ".py",
   "mimetype": "text/x-python",
   "name": "python",
   "nbconvert_exporter": "python",
   "pygments_lexer": "ipython3",
   "version": "3.9.12"
  }
 },
 "nbformat": 4,
 "nbformat_minor": 5
}
